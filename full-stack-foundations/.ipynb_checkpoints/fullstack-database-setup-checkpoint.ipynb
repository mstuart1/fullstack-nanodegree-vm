{
 "cells": [
  {
   "cell_type": "markdown",
   "metadata": {},
   "source": [
    "#### Part of step 1\n",
    "- sys is a general runtime environment module (I wonder what it is importing here?)  \n",
    "- Column, ForeignKey, Integer, String classes from sqlalchemy allow us to write mapper\n",
    "- bring in the declarative base from sqlalchemy \n",
    "- import relationship to create foreign key relationships in mapper\n",
    "- create_engine allows us to create or interact with a database."
   ]
  },
  {
   "cell_type": "code",
   "execution_count": 7,
   "metadata": {},
   "outputs": [],
   "source": [
    "import sys\n",
    "from sqlalchemy import Column, ForeignKey, Integer, String\n",
    "from sqlalchemy.ext.declarative import declarative_base\n",
    "from sqlalchemy.orm import relationship\n",
    "from sqlalchemy import create_engine"
   ]
  },
  {
   "cell_type": "markdown",
   "metadata": {},
   "source": [
    "#### Part of step 1\n",
    "Make an instance of declarative base class, which lets sqlalchemy know that our classes are special sqlalchemy classes that correspond to tables in our database."
   ]
  },
  {
   "cell_type": "code",
   "execution_count": 8,
   "metadata": {},
   "outputs": [],
   "source": [
    "Base = declarative_base()"
   ]
  },
  {
   "cell_type": "markdown",
   "metadata": {},
   "source": [
    "#### Part of Step 2\n",
    "Create Restaurant class, camel case with table representation of table name in database\n",
    "\n",
    "#### Part of Step 3\n",
    "Use mapper code to create variables that can be used to create columns within our database, including attributes"
   ]
  },
  {
   "cell_type": "code",
   "execution_count": 9,
   "metadata": {},
   "outputs": [],
   "source": [
    "class Restaurant(Base):\n",
    "    #2\n",
    "    __tablename__ = 'restaurant'\n",
    "    #3\n",
    "    name = Column(String(80), nullable = False)\n",
    "    id = Column(Integer, primary_key = True)"
   ]
  },
  {
   "cell_type": "markdown",
   "metadata": {},
   "source": [
    "#### Part of Step 2\n",
    "Create MenuItem class, camel case with table representation of table name in database\n",
    "\n",
    "#### Part of Step 3\n",
    "Use mapper code to create variables that can be used to create columns within our database, including attributes"
   ]
  },
  {
   "cell_type": "code",
   "execution_count": 10,
   "metadata": {},
   "outputs": [],
   "source": [
    "#2\n",
    "class MenuItem(Base):\n",
    "    __tablename__ = 'menu_item'\n",
    "#3\n",
    "    name = Column(String(80), nullable = False)\n",
    "    id = Column(Integer, primary_key = True)\n",
    "    course = Column(String(250))\n",
    "    description = Column(String(250))\n",
    "    price = Column(String(80))\n",
    "    restaurant_id = Column(Integer, ForeignKey('restaurant.id'))\n",
    "    restaurant = relationship(Restaurant)"
   ]
  },
  {
   "cell_type": "markdown",
   "metadata": {},
   "source": [
    "#### Part of step 1\n",
    "At end of file, create an instance of our create_engine class and point to the database we will use."
   ]
  },
  {
   "cell_type": "code",
   "execution_count": 11,
   "metadata": {},
   "outputs": [],
   "source": [
    "engine = create_engine('sqlite:///restaurants.db')"
   ]
  },
  {
   "cell_type": "markdown",
   "metadata": {},
   "source": [
    "#### Part of step 1\n",
    "Write a line that will go into the database and add the classes as new tables in the database."
   ]
  },
  {
   "cell_type": "code",
   "execution_count": 12,
   "metadata": {},
   "outputs": [],
   "source": [
    "Base.metadata.create_all(engine)"
   ]
  },
  {
   "cell_type": "code",
   "execution_count": null,
   "metadata": {},
   "outputs": [],
   "source": []
  }
 ],
 "metadata": {
  "kernelspec": {
   "display_name": "Python 2",
   "language": "python",
   "name": "python2"
  },
  "language_info": {
   "codemirror_mode": {
    "name": "ipython",
    "version": 2
   },
   "file_extension": ".py",
   "mimetype": "text/x-python",
   "name": "python",
   "nbconvert_exporter": "python",
   "pygments_lexer": "ipython2",
   "version": "2.7.17"
  }
 },
 "nbformat": 4,
 "nbformat_minor": 2
}
